{
 "cells": [
  {
   "cell_type": "markdown",
   "metadata": {},
   "source": [
    "Script Preprocessing Workflow:\n",
    "\n",
    "1. Upload and Read the \"Script\" uploaded by the livestreamer.\n",
    "2. Preprocess the Script into smaller chunks (either by paragraph or sentences)\n",
    "3. Embed each chunk and store in ChromaDB (Vector Database) for RAG"
   ]
  },
  {
   "cell_type": "code",
   "execution_count": 1,
   "metadata": {},
   "outputs": [],
   "source": [
    "# Read the script from an uploaded file\n",
    "def read_script(file_path):\n",
    "    with open(file_path, 'r') as file:\n",
    "        script = file.read()\n",
    "    return script\n",
    "\n",
    "# Can look into other methods for splitting into chunks (this requires the user to split into paragraphs by 2 lines)\n",
    "def split_script(script, split_by='paragraph'):\n",
    "    if split_by == 'paragraph':\n",
    "        # Split by double newline characters for paragraphs\n",
    "        chunks = script.split('\\n\\n')\n",
    "    elif split_by == 'sentence':\n",
    "        # Split by periods for sentences\n",
    "        chunks = script.split('. ')\n",
    "    else:\n",
    "        raise ValueError(\"Unsupported split_by value. Use 'paragraph' or 'sentence'.\")\n",
    "    return chunks"
   ]
  },
  {
   "cell_type": "code",
   "execution_count": 2,
   "metadata": {},
   "outputs": [],
   "source": [
    "import ollama\n",
    "\n",
    "# Use nomic-embed-text (local model) for embeddings\n",
    "# print(ollama.embeddings(model='nomic-embed-text', prompt='The sky is blue because of rayleigh scattering'))\n",
    "\n",
    "def get_embedding(text):\n",
    "    res = ollama.embeddings(model='nomic-embed-text', prompt=text)\n",
    "    return res['embedding']\n",
    "\n",
    "import chromadb\n",
    "\n",
    "# Initialize the ChromaDB client\n",
    "chroma_client = chromadb.Client()\n",
    "\n",
    "# Create a collection for the script\n",
    "script_collection_name = \"collection\"\n",
    "script_collection = chroma_client.get_or_create_collection(name=script_collection_name)\n",
    "\n",
    "    \n",
    "# Embed and store script chunks\n",
    "def store_script_chunks(chunks):\n",
    "    \n",
    "    embeddings = [get_embedding(chunk) for chunk in chunks]\n",
    "    documents = chunks\n",
    "    ids = list(str(x) for x in range(len(chunks)))\n",
    "    script_collection.add(\n",
    "        documents=documents,\n",
    "        embeddings=embeddings,\n",
    "        ids=ids\n",
    "    )\n",
    "\n",
    "# Main function to process the script\n",
    "def process_script(file_path):\n",
    "    script = read_script(file_path)\n",
    "    chunks = split_script(script, split_by='paragraph')  # You can also choose 'sentence'\n",
    "    store_script_chunks(chunks)\n",
    "\n",
    "# Example usage\n",
    "file_path = \"../data/scripts/example_script\" \n",
    "process_script(file_path)\n"
   ]
  },
  {
   "cell_type": "code",
   "execution_count": 3,
   "metadata": {},
   "outputs": [
    {
     "data": {
      "text/plain": [
       "{'ids': ['0', '1', '2', '3', '4', '5', '6', '7'],\n",
       " 'embeddings': None,\n",
       " 'metadatas': [None, None, None, None, None, None, None, None],\n",
       " 'documents': ['[Product 1: Casual Sneakers]\\n\"First up, we have our best-selling casual sneakers. These beauties come in sizes 6 through 12, with half sizes available. Priced at just $75, they offer incredible value. Let’s talk about some of their standout features:\\nBreathable Mesh Upper: This material allows for maximum airflow, keeping your feet cool and comfortable all day long.\\nMemory Foam Insoles: These insoles conform to the shape of your feet, providing personalized comfort with every step.\\nVersatile Colors: Choose from classic black, crisp white, and navy blue to match any outfit.\\nThese sneakers run true to size, so you can order your usual size with confidence.\"',\n",
       "  '\\n[Product 2: Running Shoes]\\n\"Next on our list are the top-rated running shoes, designed for both performance and comfort. Available in sizes 5 through 11, including half sizes, these are priced at $120. Let’s take a closer look at what makes these running shoes a favorite among our customers:\\nLightweight Design: Made with advanced materials to reduce weight without sacrificing durability.\\nDurable Rubber Outsole: Provides excellent traction on various surfaces, ensuring stability during your runs.\\nCushioned Midsole: This feature absorbs impact, protecting your joints and reducing fatigue.\\nThese running shoes come in neon green, electric blue, and classic black. They have a snug fit, so if you’re between sizes, it’s best to go for the larger one.\"',\n",
       "  '\\n[Product 3: Dress Shoes]\\n\"For a more formal look, we offer our elegant dress shoes, available in sizes 7 through 13. Priced at $150, these shoes are crafted from genuine leather and boast a sleek, polished finish. Here are some details:\\nGenuine Leather: Offers a sophisticated look and long-lasting durability.\\nCushioned Insoles: Ensure comfort even during long hours of wear.\\nClassic Colors: Available in timeless black and rich brown.\\nThese dress shoes have a slightly narrow fit, so if you have wider feet, consider going up half a size.\"',\n",
       "  '\\n[Product 4: Kids\\' Sneakers]\\n\"Our kids\\' sneakers are perfect for the little ones, priced at $50 and available in sizes 1 through 6. These sneakers are designed with children in mind:\\nFun, Colorful Designs: Choose from pink, blue, and green to match your child’s personality.\\nVelcro Strap: Makes it easy for kids to put on and take off their shoes.\\nLightweight and Cushioned Sole: Provides support for growing feet.\\nParents, these sneakers tend to run a bit large, so you might want to size down.\"',\n",
       "  '\\n[Product 5: Hiking Boots]\\n\"For adventure enthusiasts, we have our rugged hiking boots, available in sizes 8 through 14 and priced at $180. These boots are built to withstand tough terrains:\\nWaterproof Upper: Keeps your feet dry in wet conditions.\\nSturdy Rubber Sole: Offers excellent traction and durability.\\nAnkle Support: Provides extra stability on uneven ground.\\nAvailable in brown and grey, these boots are true to size but offer a bit more room for thick hiking socks.\"',\n",
       "  '\\n[Product 6: Sandals]\\n\"Summer is coming, and our stylish sandals are a must-have! Priced at $60, these sandals are available in sizes 5 through 10. Let’s look at their features:\\nComfortable Footbed: Designed for all-day wear.\\nAdjustable Straps: Ensure a perfect fit for any foot shape.\\nStylish Colors: Available in tan, black, and white.\\nThese sandals fit true to size, so you can stick with your usual size.\"',\n",
       "  '\\n[Product 7: Slip-Ons]\\n\"For those who love convenience, our slip-ons are the perfect choice. Priced at $85, these come in sizes 6 through 12. Here are the details:\\nSleek Design: Suitable for both casual and semi-formal occasions.\\nCushioned Insole: Provides all-day comfort.\\nVersatile Colors: Available in grey, navy, and black.\\nThese slip-ons have a slightly snug fit, so if you’re between sizes, go up half a size.\"',\n",
       "  '\\n[Product 8: High Heels]\\n\"Lastly, for a touch of elegance, our high heels are a showstopper. Priced at $95, these come in sizes 5 through 11. Let’s go over their features:\\n3-Inch Heel: Adds height without compromising comfort.\\nPadded Insole: Ensures you can wear them all night without discomfort.\\nElegant Colors: Available in red, black, and nude.\\nThese heels run true to size, so order your usual size.\"'],\n",
       " 'uris': None,\n",
       " 'data': None,\n",
       " 'included': ['metadatas', 'documents']}"
      ]
     },
     "execution_count": 3,
     "metadata": {},
     "output_type": "execute_result"
    }
   ],
   "source": [
    "script_collection.get()"
   ]
  },
  {
   "cell_type": "code",
   "execution_count": null,
   "metadata": {},
   "outputs": [],
   "source": []
  },
  {
   "cell_type": "code",
   "execution_count": 15,
   "metadata": {},
   "outputs": [],
   "source": [
    "from langchain_community.chat_models import ChatOllama\n",
    "from langchain_core.prompts import ChatPromptTemplate\n",
    "from langchain.schema.output_parser import StrOutputParser, JsonOutputParser\n",
    "\n",
    "local_llm = 'llama3'\n",
    "llama3_chat = ChatOllama(model=local_llm, temperature=0)\n",
    "llama3_chat_json = ChatOllama(model=local_llm, temperature=0, format='json')"
   ]
  },
  {
   "cell_type": "code",
   "execution_count": null,
   "metadata": {},
   "outputs": [],
   "source": [
    "prompt = ChatPromptTemplate.from_template(\n",
    "    \"\"\"\n",
    "    You are a helpful AI Assistant chatbot that replies to user queries from a livestream.\n",
    "    \n",
    "    Based on the following:\n",
    "    {document},\n",
    "    answer the user's message.\n",
    "    \n",
    "    User Message: {user_message}\n",
    "    \n",
    "    Adopt a helpful tone and be concise in your answers.\n",
    "    \"\"\"\n",
    ")\n",
    "output_parser = StrOutputParser()\n",
    "json_chain = prompt | llama3_chat_json | JsonOutputParser()"
   ]
  },
  {
   "cell_type": "code",
   "execution_count": 5,
   "metadata": {},
   "outputs": [],
   "source": [
    "prompt = ChatPromptTemplate.from_template(\n",
    "    \"\"\"\n",
    "    You are a helpful AI Assistant chatbot that replies to user queries from a livestream.\n",
    "    \n",
    "    Based on the following:\n",
    "    {document},\n",
    "    answer the user's message.\n",
    "    \n",
    "    User Message: {user_message}\n",
    "    \n",
    "    Adopt a helpful tone and be concise in your answers.\n",
    "    \"\"\"\n",
    ")\n",
    "output_parser = StrOutputParser()\n",
    "chain = prompt | llama3_chat | output_parser"
   ]
  },
  {
   "cell_type": "code",
   "execution_count": 6,
   "metadata": {},
   "outputs": [
    {
     "data": {
      "text/plain": [
       "{'ids': ['6'],\n",
       " 'embeddings': None,\n",
       " 'metadatas': [None],\n",
       " 'documents': ['\\n[Product 7: Slip-Ons]\\n\"For those who love convenience, our slip-ons are the perfect choice. Priced at $85, these come in sizes 6 through 12. Here are the details:\\nSleek Design: Suitable for both casual and semi-formal occasions.\\nCushioned Insole: Provides all-day comfort.\\nVersatile Colors: Available in grey, navy, and black.\\nThese slip-ons have a slightly snug fit, so if you’re between sizes, go up half a size.\"'],\n",
       " 'uris': None,\n",
       " 'data': None,\n",
       " 'included': ['metadatas', 'documents']}"
      ]
     },
     "execution_count": 6,
     "metadata": {},
     "output_type": "execute_result"
    }
   ],
   "source": [
    "document = script_collection.get(ids=['6'])\n",
    "document"
   ]
  },
  {
   "cell_type": "code",
   "execution_count": 7,
   "metadata": {},
   "outputs": [
    {
     "data": {
      "text/plain": [
       "'\\n[Product 7: Slip-Ons]\\n\"For those who love convenience, our slip-ons are the perfect choice. Priced at $85, these come in sizes 6 through 12. Here are the details:\\nSleek Design: Suitable for both casual and semi-formal occasions.\\nCushioned Insole: Provides all-day comfort.\\nVersatile Colors: Available in grey, navy, and black.\\nThese slip-ons have a slightly snug fit, so if you’re between sizes, go up half a size.\"'"
      ]
     },
     "execution_count": 7,
     "metadata": {},
     "output_type": "execute_result"
    }
   ],
   "source": [
    "document_text = document['documents'][0]\n",
    "document_text"
   ]
  },
  {
   "cell_type": "code",
   "execution_count": 8,
   "metadata": {},
   "outputs": [
    {
     "data": {
      "text/plain": [
       "'Hi there!\\n\\nAccording to our product details, the Slip-Ons are available in three versatile colors: grey, navy, and black.\\n\\nHope that helps! Let me know if you have any other questions.'"
      ]
     },
     "execution_count": 8,
     "metadata": {},
     "output_type": "execute_result"
    }
   ],
   "source": [
    "message = \"what colours slip ons\"\n",
    "\n",
    "chain.invoke({\"document\": document_text, \"user_message\": message})"
   ]
  },
  {
   "cell_type": "code",
   "execution_count": 9,
   "metadata": {},
   "outputs": [],
   "source": [
    "# retrieve specific parts from script to reply user's message\n",
    "def get_relevant_document(message):\n",
    "    res = script_collection.query(query_texts=[message], n_results=1)\n",
    "    return res\n",
    "\n",
    "# generate auto reply from retrieved document, if no retrieved documents, return None\n",
    "def get_auto_reply(message):\n",
    "    document = get_relevant_document(message)\n",
    "    if document:\n",
    "        reply = chain.invoke({\"document\": document, \"user_message\": message})\n",
    "        return reply\n",
    "    else:\n",
    "        return None"
   ]
  },
  {
   "cell_type": "code",
   "execution_count": 14,
   "metadata": {},
   "outputs": [
    {
     "data": {
      "text/plain": [
       "{'ids': [['1']],\n",
       " 'distances': [[522.2816162109375]],\n",
       " 'metadatas': [[None]],\n",
       " 'embeddings': None,\n",
       " 'documents': [['\\n[Product 2: Running Shoes]\\n\"Next on our list are the top-rated running shoes, designed for both performance and comfort. Available in sizes 5 through 11, including half sizes, these are priced at $120. Let’s take a closer look at what makes these running shoes a favorite among our customers:\\nLightweight Design: Made with advanced materials to reduce weight without sacrificing durability.\\nDurable Rubber Outsole: Provides excellent traction on various surfaces, ensuring stability during your runs.\\nCushioned Midsole: This feature absorbs impact, protecting your joints and reducing fatigue.\\nThese running shoes come in neon green, electric blue, and classic black. They have a snug fit, so if you’re between sizes, it’s best to go for the larger one.\"']],\n",
       " 'uris': None,\n",
       " 'data': None,\n",
       " 'included': ['metadatas', 'documents', 'distances']}"
      ]
     },
     "execution_count": 14,
     "metadata": {},
     "output_type": "execute_result"
    }
   ],
   "source": [
    "script_collection.query(query_embeddings=[get_embedding(\"Boo\")], n_results=1)"
   ]
  }
 ],
 "metadata": {
  "kernelspec": {
   "display_name": "env",
   "language": "python",
   "name": "python3"
  },
  "language_info": {
   "codemirror_mode": {
    "name": "ipython",
    "version": 3
   },
   "file_extension": ".py",
   "mimetype": "text/x-python",
   "name": "python",
   "nbconvert_exporter": "python",
   "pygments_lexer": "ipython3",
   "version": "3.11.7"
  }
 },
 "nbformat": 4,
 "nbformat_minor": 2
}
